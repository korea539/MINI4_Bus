{
 "cells": [
  {
   "cell_type": "markdown",
   "id": "df1159cc",
   "metadata": {},
   "source": [
    "# Module"
   ]
  },
  {
   "cell_type": "code",
   "execution_count": 1,
   "id": "f8e7b413",
   "metadata": {},
   "outputs": [],
   "source": [
    "import pandas as pd\n",
    "import numpy as np\n",
    "import matplotlib.pyplot as plt\n",
    "import seaborn as sns\n",
    "import os\n",
    "# from haversine import haversine\n",
    "from datetime import datetime, date"
   ]
  },
  {
   "cell_type": "markdown",
   "id": "f71f3e0d",
   "metadata": {},
   "source": [
    "# Train, test, submission 파일 불러오고 확인하기\n",
    "* 본 데이콘 대회의 배경 및 목적\n",
    "    * 제주도민 증가와 외국인의 증가로 현재 제주도의 교통체증이 심각한 문제로 떠오르고 있습니다. \n",
    "    * 2017년 한국은행 제주본부에 따르면 제주도 일부 지역은 교통체증이 서울보다 심각합니다.\n",
    "    * 따라서, 제주테크노파크는 교통난 심화를 해결하기 위해 데이터 분석 대회를 개최합니다.\n",
    "    * 제주도 버스의 효율적인 운행를 위해 운행 시간을 예측하는 모델을 만들어 주세요!"
   ]
  },
  {
   "cell_type": "code",
   "execution_count": 2,
   "id": "00f62721",
   "metadata": {},
   "outputs": [],
   "source": [
    "# 데이터 불러오기\n",
    "train = pd.read_csv(\"train.csv\")\n",
    "test = pd.read_csv(\"test.csv\")\n",
    "sub = pd.read_csv(\"sample_submission.csv\")"
   ]
  },
  {
   "cell_type": "code",
   "execution_count": 3,
   "id": "534e48fd",
   "metadata": {},
   "outputs": [
    {
     "name": "stdout",
     "output_type": "stream",
     "text": [
      "(210457, 14)\n"
     ]
    }
   ],
   "source": [
    "print(train.shape)"
   ]
  },
  {
   "cell_type": "code",
   "execution_count": 4,
   "id": "c224cb54",
   "metadata": {},
   "outputs": [
    {
     "name": "stdout",
     "output_type": "stream",
     "text": [
      "                  id      route_id         vh_id   now_latitude  \\\n",
      "count  210457.000000  2.104570e+05  2.104570e+05  210457.000000   \n",
      "mean   105228.000000  4.052491e+08  7.988694e+06      33.434528   \n",
      "std     60753.847139  9.132404e+04  6.774077e+03       0.102350   \n",
      "min         0.000000  4.051360e+08  7.983000e+06      33.244382   \n",
      "25%     52614.000000  4.051365e+08  7.983093e+06      33.325283   \n",
      "50%    105228.000000  4.053201e+08  7.983431e+06      33.484667   \n",
      "75%    157842.000000  4.053201e+08  7.997041e+06      33.500197   \n",
      "max    210456.000000  4.053281e+08  7.997124e+06      33.556167   \n",
      "\n",
      "       now_longitude       distance  next_latitude  next_longitude  \\\n",
      "count  210457.000000  210457.000000  210457.000000   210457.000000   \n",
      "mean      126.603451     490.256100      33.434711      126.603687   \n",
      "std         0.123961     520.563932       0.102224        0.123838   \n",
      "min       126.473300      97.000000      33.244382      126.473300   \n",
      "25%       126.523900     291.000000      33.325283      126.524550   \n",
      "50%       126.551050     384.000000      33.484860      126.551050   \n",
      "75%       126.650322     542.000000      33.500228      126.650322   \n",
      "max       126.935188    7461.000000      33.556167      126.935188   \n",
      "\n",
      "       next_arrive_time  \n",
      "count     210457.000000  \n",
      "mean          85.380824  \n",
      "std           85.051170  \n",
      "min            6.000000  \n",
      "25%           44.000000  \n",
      "50%           66.000000  \n",
      "75%          102.000000  \n",
      "max         2996.000000  \n"
     ]
    }
   ],
   "source": [
    "print(train.describe())"
   ]
  },
  {
   "cell_type": "code",
   "execution_count": 5,
   "id": "87fdbb6f",
   "metadata": {},
   "outputs": [
    {
     "name": "stdout",
     "output_type": "stream",
     "text": [
      "              date route_nm now_station now_arrive_time next_station\n",
      "count       210457   210457      210457          210457       210457\n",
      "unique          14       21         348              20          351\n",
      "top     2019-10-15   365-22   남국원(아라방면)             08시          은남동\n",
      "freq         15980    31941        3361           13838         3519\n"
     ]
    }
   ],
   "source": [
    "# station은 348개, 351개로 나뉘어 짐\n",
    "print(train.describe(include=\"object\"))"
   ]
  },
  {
   "cell_type": "code",
   "execution_count": 6,
   "id": "7b046639",
   "metadata": {},
   "outputs": [
    {
     "name": "stdout",
     "output_type": "stream",
     "text": [
      "<class 'pandas.core.frame.DataFrame'>\n",
      "RangeIndex: 210457 entries, 0 to 210456\n",
      "Data columns (total 14 columns):\n",
      " #   Column            Non-Null Count   Dtype  \n",
      "---  ------            --------------   -----  \n",
      " 0   id                210457 non-null  int64  \n",
      " 1   date              210457 non-null  object \n",
      " 2   route_id          210457 non-null  int64  \n",
      " 3   vh_id             210457 non-null  int64  \n",
      " 4   route_nm          210457 non-null  object \n",
      " 5   now_latitude      210457 non-null  float64\n",
      " 6   now_longitude     210457 non-null  float64\n",
      " 7   now_station       210457 non-null  object \n",
      " 8   now_arrive_time   210457 non-null  object \n",
      " 9   distance          210457 non-null  float64\n",
      " 10  next_station      210457 non-null  object \n",
      " 11  next_latitude     210457 non-null  float64\n",
      " 12  next_longitude    210457 non-null  float64\n",
      " 13  next_arrive_time  210457 non-null  int64  \n",
      "dtypes: float64(5), int64(4), object(5)\n",
      "memory usage: 22.5+ MB\n",
      "None\n"
     ]
    }
   ],
   "source": [
    "print(train.info())"
   ]
  },
  {
   "cell_type": "code",
   "execution_count": 7,
   "id": "7db30b25",
   "metadata": {},
   "outputs": [
    {
     "name": "stdout",
     "output_type": "stream",
     "text": [
      "id                  0\n",
      "date                0\n",
      "route_id            0\n",
      "vh_id               0\n",
      "route_nm            0\n",
      "now_latitude        0\n",
      "now_longitude       0\n",
      "now_station         0\n",
      "now_arrive_time     0\n",
      "distance            0\n",
      "next_station        0\n",
      "next_latitude       0\n",
      "next_longitude      0\n",
      "next_arrive_time    0\n",
      "dtype: int64\n"
     ]
    }
   ],
   "source": [
    "print(train.isnull().sum())"
   ]
  },
  {
   "cell_type": "code",
   "execution_count": 8,
   "id": "a320b42b",
   "metadata": {},
   "outputs": [
    {
     "data": {
      "text/html": [
       "<div>\n",
       "<style scoped>\n",
       "    .dataframe tbody tr th:only-of-type {\n",
       "        vertical-align: middle;\n",
       "    }\n",
       "\n",
       "    .dataframe tbody tr th {\n",
       "        vertical-align: top;\n",
       "    }\n",
       "\n",
       "    .dataframe thead th {\n",
       "        text-align: right;\n",
       "    }\n",
       "</style>\n",
       "<table border=\"1\" class=\"dataframe\">\n",
       "  <thead>\n",
       "    <tr style=\"text-align: right;\">\n",
       "      <th></th>\n",
       "      <th>id</th>\n",
       "      <th>date</th>\n",
       "      <th>route_id</th>\n",
       "      <th>vh_id</th>\n",
       "      <th>route_nm</th>\n",
       "      <th>now_latitude</th>\n",
       "      <th>now_longitude</th>\n",
       "      <th>now_station</th>\n",
       "      <th>now_arrive_time</th>\n",
       "      <th>distance</th>\n",
       "      <th>next_station</th>\n",
       "      <th>next_latitude</th>\n",
       "      <th>next_longitude</th>\n",
       "      <th>next_arrive_time</th>\n",
       "    </tr>\n",
       "  </thead>\n",
       "  <tbody>\n",
       "    <tr>\n",
       "      <th>0</th>\n",
       "      <td>0</td>\n",
       "      <td>2019-10-15</td>\n",
       "      <td>405136001</td>\n",
       "      <td>7997025</td>\n",
       "      <td>360-1</td>\n",
       "      <td>33.456267</td>\n",
       "      <td>126.551750</td>\n",
       "      <td>제주대학교입구</td>\n",
       "      <td>06시</td>\n",
       "      <td>266.0</td>\n",
       "      <td>제대마을</td>\n",
       "      <td>33.457724</td>\n",
       "      <td>126.554014</td>\n",
       "      <td>24</td>\n",
       "    </tr>\n",
       "    <tr>\n",
       "      <th>1</th>\n",
       "      <td>1</td>\n",
       "      <td>2019-10-15</td>\n",
       "      <td>405136001</td>\n",
       "      <td>7997025</td>\n",
       "      <td>360-1</td>\n",
       "      <td>33.457724</td>\n",
       "      <td>126.554014</td>\n",
       "      <td>제대마을</td>\n",
       "      <td>06시</td>\n",
       "      <td>333.0</td>\n",
       "      <td>제대아파트</td>\n",
       "      <td>33.458783</td>\n",
       "      <td>126.557353</td>\n",
       "      <td>36</td>\n",
       "    </tr>\n",
       "    <tr>\n",
       "      <th>2</th>\n",
       "      <td>2</td>\n",
       "      <td>2019-10-15</td>\n",
       "      <td>405136001</td>\n",
       "      <td>7997025</td>\n",
       "      <td>360-1</td>\n",
       "      <td>33.458783</td>\n",
       "      <td>126.557353</td>\n",
       "      <td>제대아파트</td>\n",
       "      <td>06시</td>\n",
       "      <td>415.0</td>\n",
       "      <td>제주대학교</td>\n",
       "      <td>33.459893</td>\n",
       "      <td>126.561624</td>\n",
       "      <td>40</td>\n",
       "    </tr>\n",
       "    <tr>\n",
       "      <th>3</th>\n",
       "      <td>3</td>\n",
       "      <td>2019-10-15</td>\n",
       "      <td>405136001</td>\n",
       "      <td>7997025</td>\n",
       "      <td>360-1</td>\n",
       "      <td>33.479705</td>\n",
       "      <td>126.543811</td>\n",
       "      <td>남국원(아라방면)</td>\n",
       "      <td>06시</td>\n",
       "      <td>578.0</td>\n",
       "      <td>제주여자중고등학교(아라방면)</td>\n",
       "      <td>33.484860</td>\n",
       "      <td>126.542928</td>\n",
       "      <td>42</td>\n",
       "    </tr>\n",
       "    <tr>\n",
       "      <th>4</th>\n",
       "      <td>4</td>\n",
       "      <td>2019-10-15</td>\n",
       "      <td>405136001</td>\n",
       "      <td>7997025</td>\n",
       "      <td>360-1</td>\n",
       "      <td>33.485662</td>\n",
       "      <td>126.494923</td>\n",
       "      <td>도호동</td>\n",
       "      <td>07시</td>\n",
       "      <td>374.0</td>\n",
       "      <td>은남동</td>\n",
       "      <td>33.485822</td>\n",
       "      <td>126.490897</td>\n",
       "      <td>64</td>\n",
       "    </tr>\n",
       "  </tbody>\n",
       "</table>\n",
       "</div>"
      ],
      "text/plain": [
       "   id        date   route_id    vh_id route_nm  now_latitude  now_longitude  \\\n",
       "0   0  2019-10-15  405136001  7997025    360-1     33.456267     126.551750   \n",
       "1   1  2019-10-15  405136001  7997025    360-1     33.457724     126.554014   \n",
       "2   2  2019-10-15  405136001  7997025    360-1     33.458783     126.557353   \n",
       "3   3  2019-10-15  405136001  7997025    360-1     33.479705     126.543811   \n",
       "4   4  2019-10-15  405136001  7997025    360-1     33.485662     126.494923   \n",
       "\n",
       "  now_station now_arrive_time  distance     next_station  next_latitude  \\\n",
       "0     제주대학교입구             06시     266.0             제대마을      33.457724   \n",
       "1        제대마을             06시     333.0            제대아파트      33.458783   \n",
       "2       제대아파트             06시     415.0            제주대학교      33.459893   \n",
       "3   남국원(아라방면)             06시     578.0  제주여자중고등학교(아라방면)      33.484860   \n",
       "4         도호동             07시     374.0              은남동      33.485822   \n",
       "\n",
       "   next_longitude  next_arrive_time  \n",
       "0      126.554014                24  \n",
       "1      126.557353                36  \n",
       "2      126.561624                40  \n",
       "3      126.542928                42  \n",
       "4      126.490897                64  "
      ]
     },
     "execution_count": 8,
     "metadata": {},
     "output_type": "execute_result"
    }
   ],
   "source": [
    "train.head()"
   ]
  },
  {
   "cell_type": "code",
   "execution_count": 9,
   "id": "01b11159",
   "metadata": {},
   "outputs": [
    {
     "name": "stdout",
     "output_type": "stream",
     "text": [
      "(91774, 13)\n",
      "                  id      route_id         vh_id  now_latitude  now_longitude  \\\n",
      "count   91774.000000  9.177400e+04  9.177400e+04  91774.000000   91774.000000   \n",
      "mean   256411.051038  4.052462e+08  7.988904e+06     33.437067     126.600925   \n",
      "std     26531.098040  9.184224e+04  6.818353e+03      0.101350       0.123887   \n",
      "min    210457.000000  4.051360e+08  7.983005e+06     33.244382     126.473300   \n",
      "25%    233441.250000  4.051365e+08  7.983093e+06     33.340329     126.521348   \n",
      "50%    256415.500000  4.053201e+08  7.983432e+06     33.485199     126.547770   \n",
      "75%    279388.750000  4.053201e+08  7.997056e+06     33.500228     126.642733   \n",
      "max    302354.000000  4.053281e+08  7.997124e+06     33.556167     126.935188   \n",
      "\n",
      "           distance  next_latitude  next_longitude  \n",
      "count  91774.000000   91774.000000    91774.000000  \n",
      "mean     479.771689      33.437304      126.601197  \n",
      "std      491.476531       0.101221        0.123745  \n",
      "min       97.000000      33.244382      126.473300  \n",
      "25%      291.000000      33.344884      126.523759  \n",
      "50%      381.000000      33.485199      126.547770  \n",
      "75%      529.000000      33.500473      126.642733  \n",
      "max     7461.000000      33.556167      126.935188  \n",
      "              date route_nm now_station now_arrive_time next_station\n",
      "count        91774    91774       91774           91774        91774\n",
      "unique           8       21         349              19          350\n",
      "top     2019-10-29   365-22     아라주공아파트             18시          은남동\n",
      "freq         14307    14293        1487            6216         1550\n",
      "<class 'pandas.core.frame.DataFrame'>\n",
      "RangeIndex: 91774 entries, 0 to 91773\n",
      "Data columns (total 13 columns):\n",
      " #   Column           Non-Null Count  Dtype  \n",
      "---  ------           --------------  -----  \n",
      " 0   id               91774 non-null  int64  \n",
      " 1   date             91774 non-null  object \n",
      " 2   route_id         91774 non-null  int64  \n",
      " 3   vh_id            91774 non-null  int64  \n",
      " 4   route_nm         91774 non-null  object \n",
      " 5   now_latitude     91774 non-null  float64\n",
      " 6   now_longitude    91774 non-null  float64\n",
      " 7   now_station      91774 non-null  object \n",
      " 8   now_arrive_time  91774 non-null  object \n",
      " 9   distance         91774 non-null  float64\n",
      " 10  next_station     91774 non-null  object \n",
      " 11  next_latitude    91774 non-null  float64\n",
      " 12  next_longitude   91774 non-null  float64\n",
      "dtypes: float64(5), int64(3), object(5)\n",
      "memory usage: 9.1+ MB\n",
      "None\n"
     ]
    }
   ],
   "source": [
    "# train 과 test 전부 NAN 값은 없음\n",
    "print(test.shape)\n",
    "print(test.describe())\n",
    "print(test.describe(include=\"object\"))\n",
    "print(test.info())"
   ]
  },
  {
   "cell_type": "code",
   "execution_count": 10,
   "id": "cc05f4f1",
   "metadata": {},
   "outputs": [
    {
     "data": {
      "text/html": [
       "<div>\n",
       "<style scoped>\n",
       "    .dataframe tbody tr th:only-of-type {\n",
       "        vertical-align: middle;\n",
       "    }\n",
       "\n",
       "    .dataframe tbody tr th {\n",
       "        vertical-align: top;\n",
       "    }\n",
       "\n",
       "    .dataframe thead th {\n",
       "        text-align: right;\n",
       "    }\n",
       "</style>\n",
       "<table border=\"1\" class=\"dataframe\">\n",
       "  <thead>\n",
       "    <tr style=\"text-align: right;\">\n",
       "      <th></th>\n",
       "      <th>id</th>\n",
       "      <th>date</th>\n",
       "      <th>route_id</th>\n",
       "      <th>vh_id</th>\n",
       "      <th>route_nm</th>\n",
       "      <th>now_latitude</th>\n",
       "      <th>now_longitude</th>\n",
       "      <th>now_station</th>\n",
       "      <th>now_arrive_time</th>\n",
       "      <th>distance</th>\n",
       "      <th>next_station</th>\n",
       "      <th>next_latitude</th>\n",
       "      <th>next_longitude</th>\n",
       "    </tr>\n",
       "  </thead>\n",
       "  <tbody>\n",
       "    <tr>\n",
       "      <th>0</th>\n",
       "      <td>210457</td>\n",
       "      <td>2019-10-29</td>\n",
       "      <td>405136001</td>\n",
       "      <td>7997025</td>\n",
       "      <td>360-1</td>\n",
       "      <td>33.457724</td>\n",
       "      <td>126.554014</td>\n",
       "      <td>제대마을</td>\n",
       "      <td>07시</td>\n",
       "      <td>333.0</td>\n",
       "      <td>제대아파트</td>\n",
       "      <td>33.458783</td>\n",
       "      <td>126.557353</td>\n",
       "    </tr>\n",
       "    <tr>\n",
       "      <th>1</th>\n",
       "      <td>210458</td>\n",
       "      <td>2019-10-29</td>\n",
       "      <td>405136001</td>\n",
       "      <td>7997025</td>\n",
       "      <td>360-1</td>\n",
       "      <td>33.458783</td>\n",
       "      <td>126.557353</td>\n",
       "      <td>제대아파트</td>\n",
       "      <td>07시</td>\n",
       "      <td>415.0</td>\n",
       "      <td>제주대학교</td>\n",
       "      <td>33.459893</td>\n",
       "      <td>126.561624</td>\n",
       "    </tr>\n",
       "    <tr>\n",
       "      <th>2</th>\n",
       "      <td>210459</td>\n",
       "      <td>2019-10-29</td>\n",
       "      <td>405136001</td>\n",
       "      <td>7997025</td>\n",
       "      <td>360-1</td>\n",
       "      <td>33.478867</td>\n",
       "      <td>126.483833</td>\n",
       "      <td>한라중학교/부영아파트</td>\n",
       "      <td>08시</td>\n",
       "      <td>417.0</td>\n",
       "      <td>대림2차아파트</td>\n",
       "      <td>33.478850</td>\n",
       "      <td>126.488350</td>\n",
       "    </tr>\n",
       "    <tr>\n",
       "      <th>3</th>\n",
       "      <td>210460</td>\n",
       "      <td>2019-10-29</td>\n",
       "      <td>405136001</td>\n",
       "      <td>7997025</td>\n",
       "      <td>360-1</td>\n",
       "      <td>33.478850</td>\n",
       "      <td>126.488350</td>\n",
       "      <td>대림2차아파트</td>\n",
       "      <td>08시</td>\n",
       "      <td>334.0</td>\n",
       "      <td>연동대림1차아파트</td>\n",
       "      <td>33.480700</td>\n",
       "      <td>126.489933</td>\n",
       "    </tr>\n",
       "    <tr>\n",
       "      <th>4</th>\n",
       "      <td>210461</td>\n",
       "      <td>2019-10-29</td>\n",
       "      <td>405136001</td>\n",
       "      <td>7997025</td>\n",
       "      <td>360-1</td>\n",
       "      <td>33.480700</td>\n",
       "      <td>126.489933</td>\n",
       "      <td>연동대림1차아파트</td>\n",
       "      <td>08시</td>\n",
       "      <td>550.0</td>\n",
       "      <td>케이티앤지</td>\n",
       "      <td>33.482077</td>\n",
       "      <td>126.485355</td>\n",
       "    </tr>\n",
       "  </tbody>\n",
       "</table>\n",
       "</div>"
      ],
      "text/plain": [
       "       id        date   route_id    vh_id route_nm  now_latitude  \\\n",
       "0  210457  2019-10-29  405136001  7997025    360-1     33.457724   \n",
       "1  210458  2019-10-29  405136001  7997025    360-1     33.458783   \n",
       "2  210459  2019-10-29  405136001  7997025    360-1     33.478867   \n",
       "3  210460  2019-10-29  405136001  7997025    360-1     33.478850   \n",
       "4  210461  2019-10-29  405136001  7997025    360-1     33.480700   \n",
       "\n",
       "   now_longitude  now_station now_arrive_time  distance next_station  \\\n",
       "0     126.554014         제대마을             07시     333.0        제대아파트   \n",
       "1     126.557353        제대아파트             07시     415.0        제주대학교   \n",
       "2     126.483833  한라중학교/부영아파트             08시     417.0      대림2차아파트   \n",
       "3     126.488350      대림2차아파트             08시     334.0    연동대림1차아파트   \n",
       "4     126.489933    연동대림1차아파트             08시     550.0        케이티앤지   \n",
       "\n",
       "   next_latitude  next_longitude  \n",
       "0      33.458783      126.557353  \n",
       "1      33.459893      126.561624  \n",
       "2      33.478850      126.488350  \n",
       "3      33.480700      126.489933  \n",
       "4      33.482077      126.485355  "
      ]
     },
     "execution_count": 10,
     "metadata": {},
     "output_type": "execute_result"
    }
   ],
   "source": [
    "test.head()"
   ]
  },
  {
   "cell_type": "code",
   "execution_count": 11,
   "id": "8b159103",
   "metadata": {},
   "outputs": [
    {
     "data": {
      "text/html": [
       "<div>\n",
       "<style scoped>\n",
       "    .dataframe tbody tr th:only-of-type {\n",
       "        vertical-align: middle;\n",
       "    }\n",
       "\n",
       "    .dataframe tbody tr th {\n",
       "        vertical-align: top;\n",
       "    }\n",
       "\n",
       "    .dataframe thead th {\n",
       "        text-align: right;\n",
       "    }\n",
       "</style>\n",
       "<table border=\"1\" class=\"dataframe\">\n",
       "  <thead>\n",
       "    <tr style=\"text-align: right;\">\n",
       "      <th></th>\n",
       "      <th>id</th>\n",
       "      <th>next_arrive_time</th>\n",
       "    </tr>\n",
       "  </thead>\n",
       "  <tbody>\n",
       "    <tr>\n",
       "      <th>0</th>\n",
       "      <td>210457</td>\n",
       "      <td>0</td>\n",
       "    </tr>\n",
       "    <tr>\n",
       "      <th>1</th>\n",
       "      <td>210458</td>\n",
       "      <td>0</td>\n",
       "    </tr>\n",
       "    <tr>\n",
       "      <th>2</th>\n",
       "      <td>210459</td>\n",
       "      <td>0</td>\n",
       "    </tr>\n",
       "    <tr>\n",
       "      <th>3</th>\n",
       "      <td>210460</td>\n",
       "      <td>0</td>\n",
       "    </tr>\n",
       "    <tr>\n",
       "      <th>4</th>\n",
       "      <td>210461</td>\n",
       "      <td>0</td>\n",
       "    </tr>\n",
       "  </tbody>\n",
       "</table>\n",
       "</div>"
      ],
      "text/plain": [
       "       id  next_arrive_time\n",
       "0  210457                 0\n",
       "1  210458                 0\n",
       "2  210459                 0\n",
       "3  210460                 0\n",
       "4  210461                 0"
      ]
     },
     "execution_count": 11,
     "metadata": {},
     "output_type": "execute_result"
    }
   ],
   "source": [
    "sub.head()"
   ]
  },
  {
   "cell_type": "code",
   "execution_count": 12,
   "id": "95c610cf",
   "metadata": {},
   "outputs": [
    {
     "data": {
      "text/plain": [
       "{'next_arrive_time'}"
      ]
     },
     "execution_count": 12,
     "metadata": {},
     "output_type": "execute_result"
    }
   ],
   "source": [
    "# 다음 도착시간이 구하는 값\n",
    "# test의 시작은 210457\n",
    "set(train.columns) - set(test.columns)"
   ]
  },
  {
   "cell_type": "markdown",
   "id": "c887f783",
   "metadata": {},
   "source": [
    "# 본 데이터 시각화"
   ]
  },
  {
   "cell_type": "code",
   "execution_count": 13,
   "id": "654daecc",
   "metadata": {},
   "outputs": [
    {
     "data": {
      "image/png": "[encoded data removed]",
      "text/plain": [
       "<Figure size 864x576 with 9 Axes>"
      ]
     },
     "metadata": {
      "needs_background": "light"
     },
     "output_type": "display_data"
    }
   ],
   "source": [
    "train.hist(bins=100, figsize=(12, 8));"
   ]
  },
  {
   "cell_type": "code",
   "execution_count": null,
   "id": "bae64536",
   "metadata": {},
   "outputs": [],
   "source": []
  },
  {
   "cell_type": "code",
   "execution_count": 14,
   "id": "2ce2808e",
   "metadata": {},
   "outputs": [],
   "source": [
    "# 버스 노선 ID = 위와 같은 의미라서 삭제\n",
    "train[\"route_id\"].value_counts()\n",
    "train = train.drop(columns=\"route_id\")\n",
    "test = test.drop(columns=\"route_id\")\n",
    "\n",
    "# 위경도가 있기에 한글로 적시된 위치는 삭제\n",
    "train = train.drop(columns=\"now_station\")\n",
    "train = train.drop(columns=\"next_station\")\n",
    "test = test.drop(columns=\"now_station\")\n",
    "test = test.drop(columns=\"next_station\")\n",
    "\n",
    "# id 컬럼 삭제\n",
    "train = train.drop(columns=\"id\")\n",
    "test = test.drop(columns=\"id\")\n",
    "\n",
    "# next arrive 가 1000이 넘어가는 것은 오류데이터로 판별하고 삭제\n",
    "# 201개는 삭제하기\n",
    "train[train[\"next_arrive_time\"] >= 1000].count()\n",
    "ne_dr = train[train[\"next_arrive_time\"] >= 1000].index.tolist()\n",
    "train = train.drop(index=ne_dr)\n",
    "\n",
    "# date는 데이트 형식으로 변환, 그리고 date 삭제 (월요일부터 0)\n",
    "train[\"day\"] = pd.to_datetime(train[\"date\"]).dt.weekday\n",
    "test[\"day\"] = pd.to_datetime(test[\"date\"]).dt.weekday\n",
    "train = train.drop(columns=\"date\")\n",
    "test = test.drop(columns=\"date\")\n",
    "\n",
    "# 현재 도착시간은 int형으로 바꿔주고, id 는 고유 카테고리로 바꿔준다.\n",
    "train[\"now_arrive_time\"] = train[\"now_arrive_time\"].str[:2]\n",
    "test[\"now_arrive_time\"] = test[\"now_arrive_time\"].str[:2]\n",
    "train[\"now_arrive_time\"] = train[\"now_arrive_time\"].astype(\"int\")\n",
    "test[\"now_arrive_time\"] = test[\"now_arrive_time\"].astype(\"int\")\n",
    "\n",
    "# route_nm 은 category로 변환\n",
    "train[\"route_nm\"] = train[\"route_nm\"].astype(\"category\")\n",
    "test[\"route_nm\"] = test[\"route_nm\"].astype(\"category\")\n",
    "\n",
    "# distance 삭제하기, 위경도 있으므로\n",
    "train = train.drop(columns=\"distance\")\n",
    "test = test.drop(columns=\"distance\")"
   ]
  },
  {
   "cell_type": "code",
   "execution_count": 15,
   "id": "cd7378e5",
   "metadata": {},
   "outputs": [
    {
     "data": {
      "text/html": [
       "<div>\n",
       "<style scoped>\n",
       "    .dataframe tbody tr th:only-of-type {\n",
       "        vertical-align: middle;\n",
       "    }\n",
       "\n",
       "    .dataframe tbody tr th {\n",
       "        vertical-align: top;\n",
       "    }\n",
       "\n",
       "    .dataframe thead th {\n",
       "        text-align: right;\n",
       "    }\n",
       "</style>\n",
       "<table border=\"1\" class=\"dataframe\">\n",
       "  <thead>\n",
       "    <tr style=\"text-align: right;\">\n",
       "      <th></th>\n",
       "      <th>vh_id</th>\n",
       "      <th>route_nm</th>\n",
       "      <th>now_latitude</th>\n",
       "      <th>now_longitude</th>\n",
       "      <th>now_arrive_time</th>\n",
       "      <th>next_latitude</th>\n",
       "      <th>next_longitude</th>\n",
       "      <th>next_arrive_time</th>\n",
       "      <th>day</th>\n",
       "    </tr>\n",
       "  </thead>\n",
       "  <tbody>\n",
       "    <tr>\n",
       "      <th>0</th>\n",
       "      <td>7997025</td>\n",
       "      <td>360-1</td>\n",
       "      <td>33.456267</td>\n",
       "      <td>126.551750</td>\n",
       "      <td>6</td>\n",
       "      <td>33.457724</td>\n",
       "      <td>126.554014</td>\n",
       "      <td>24</td>\n",
       "      <td>1</td>\n",
       "    </tr>\n",
       "    <tr>\n",
       "      <th>1</th>\n",
       "      <td>7997025</td>\n",
       "      <td>360-1</td>\n",
       "      <td>33.457724</td>\n",
       "      <td>126.554014</td>\n",
       "      <td>6</td>\n",
       "      <td>33.458783</td>\n",
       "      <td>126.557353</td>\n",
       "      <td>36</td>\n",
       "      <td>1</td>\n",
       "    </tr>\n",
       "    <tr>\n",
       "      <th>2</th>\n",
       "      <td>7997025</td>\n",
       "      <td>360-1</td>\n",
       "      <td>33.458783</td>\n",
       "      <td>126.557353</td>\n",
       "      <td>6</td>\n",
       "      <td>33.459893</td>\n",
       "      <td>126.561624</td>\n",
       "      <td>40</td>\n",
       "      <td>1</td>\n",
       "    </tr>\n",
       "    <tr>\n",
       "      <th>3</th>\n",
       "      <td>7997025</td>\n",
       "      <td>360-1</td>\n",
       "      <td>33.479705</td>\n",
       "      <td>126.543811</td>\n",
       "      <td>6</td>\n",
       "      <td>33.484860</td>\n",
       "      <td>126.542928</td>\n",
       "      <td>42</td>\n",
       "      <td>1</td>\n",
       "    </tr>\n",
       "    <tr>\n",
       "      <th>4</th>\n",
       "      <td>7997025</td>\n",
       "      <td>360-1</td>\n",
       "      <td>33.485662</td>\n",
       "      <td>126.494923</td>\n",
       "      <td>7</td>\n",
       "      <td>33.485822</td>\n",
       "      <td>126.490897</td>\n",
       "      <td>64</td>\n",
       "      <td>1</td>\n",
       "    </tr>\n",
       "    <tr>\n",
       "      <th>5</th>\n",
       "      <td>7997025</td>\n",
       "      <td>360-1</td>\n",
       "      <td>33.478867</td>\n",
       "      <td>126.483833</td>\n",
       "      <td>7</td>\n",
       "      <td>33.478850</td>\n",
       "      <td>126.488350</td>\n",
       "      <td>160</td>\n",
       "      <td>1</td>\n",
       "    </tr>\n",
       "    <tr>\n",
       "      <th>6</th>\n",
       "      <td>7997025</td>\n",
       "      <td>360-1</td>\n",
       "      <td>33.478850</td>\n",
       "      <td>126.488350</td>\n",
       "      <td>7</td>\n",
       "      <td>33.480700</td>\n",
       "      <td>126.489933</td>\n",
       "      <td>58</td>\n",
       "      <td>1</td>\n",
       "    </tr>\n",
       "    <tr>\n",
       "      <th>7</th>\n",
       "      <td>7997025</td>\n",
       "      <td>360-1</td>\n",
       "      <td>33.482142</td>\n",
       "      <td>126.483213</td>\n",
       "      <td>7</td>\n",
       "      <td>33.483446</td>\n",
       "      <td>126.480758</td>\n",
       "      <td>64</td>\n",
       "      <td>1</td>\n",
       "    </tr>\n",
       "    <tr>\n",
       "      <th>8</th>\n",
       "      <td>7997025</td>\n",
       "      <td>360-1</td>\n",
       "      <td>33.483446</td>\n",
       "      <td>126.480758</td>\n",
       "      <td>7</td>\n",
       "      <td>33.485854</td>\n",
       "      <td>126.480530</td>\n",
       "      <td>54</td>\n",
       "      <td>1</td>\n",
       "    </tr>\n",
       "    <tr>\n",
       "      <th>9</th>\n",
       "      <td>7997025</td>\n",
       "      <td>360-1</td>\n",
       "      <td>33.485854</td>\n",
       "      <td>126.480530</td>\n",
       "      <td>7</td>\n",
       "      <td>33.488046</td>\n",
       "      <td>126.483112</td>\n",
       "      <td>204</td>\n",
       "      <td>1</td>\n",
       "    </tr>\n",
       "  </tbody>\n",
       "</table>\n",
       "</div>"
      ],
      "text/plain": [
       "     vh_id route_nm  now_latitude  now_longitude  now_arrive_time  \\\n",
       "0  7997025    360-1     33.456267     126.551750                6   \n",
       "1  7997025    360-1     33.457724     126.554014                6   \n",
       "2  7997025    360-1     33.458783     126.557353                6   \n",
       "3  7997025    360-1     33.479705     126.543811                6   \n",
       "4  7997025    360-1     33.485662     126.494923                7   \n",
       "5  7997025    360-1     33.478867     126.483833                7   \n",
       "6  7997025    360-1     33.478850     126.488350                7   \n",
       "7  7997025    360-1     33.482142     126.483213                7   \n",
       "8  7997025    360-1     33.483446     126.480758                7   \n",
       "9  7997025    360-1     33.485854     126.480530                7   \n",
       "\n",
       "   next_latitude  next_longitude  next_arrive_time  day  \n",
       "0      33.457724      126.554014                24    1  \n",
       "1      33.458783      126.557353                36    1  \n",
       "2      33.459893      126.561624                40    1  \n",
       "3      33.484860      126.542928                42    1  \n",
       "4      33.485822      126.490897                64    1  \n",
       "5      33.478850      126.488350               160    1  \n",
       "6      33.480700      126.489933                58    1  \n",
       "7      33.483446      126.480758                64    1  \n",
       "8      33.485854      126.480530                54    1  \n",
       "9      33.488046      126.483112               204    1  "
      ]
     },
     "execution_count": 15,
     "metadata": {},
     "output_type": "execute_result"
    }
   ],
   "source": [
    "train.head(10)"
   ]
  },
  {
   "attachments": {},
   "cell_type": "markdown",
   "id": "101c9b67",
   "metadata": {},
   "source": [
    "## harversine 작동 안됨"
   ]
  },
  {
   "cell_type": "code",
   "execution_count": 16,
   "id": "1818e32e",
   "metadata": {},
   "outputs": [
    {
     "data": {
      "text/plain": [
       "\"\\nnew_dist = []\\n\\nfor x in range(1786, 210256):\\n    start = (train['now_latitude'][x], train['now_longitude'][x])\\n    arrive = (train['next_latitude'][x], train['next_longitude'][x])\\n    result = haversine(start, arrive, unit='m')\\n    new_dist.append(result)\\n    \\nnew_dist\\n# haversine(start, arrive, unit='m')\\n# train['n_dist'] = new_dist\\n\""
      ]
     },
     "execution_count": 16,
     "metadata": {},
     "output_type": "execute_result"
    }
   ],
   "source": [
    "\"\"\"\n",
    "new_dist = []\n",
    "\n",
    "for x in range(1786, 210256):\n",
    "    start = (train['now_latitude'][x], train['now_longitude'][x])\n",
    "    arrive = (train['next_latitude'][x], train['next_longitude'][x])\n",
    "    result = haversine(start, arrive, unit='m')\n",
    "    new_dist.append(result)\n",
    "    \n",
    "new_dist\n",
    "# haversine(start, arrive, unit='m')\n",
    "# train['n_dist'] = new_dist\n",
    "\"\"\""
   ]
  },
  {
   "cell_type": "code",
   "execution_count": 17,
   "id": "de078da2",
   "metadata": {},
   "outputs": [],
   "source": [
    "# start = (train[\"now_latitude\"][0], train[\"now_longitude\"][0])\n",
    "# arrive = (train[\"next_latitude\"][0], train[\"next_longitude\"][0])\n",
    "# haversine(start, arrive, unit=\"m\")"
   ]
  },
  {
   "cell_type": "code",
   "execution_count": 18,
   "id": "dd755c95",
   "metadata": {},
   "outputs": [
    {
     "name": "stdout",
     "output_type": "stream",
     "text": [
      "<class 'pandas.core.frame.DataFrame'>\n",
      "Int64Index: 210256 entries, 0 to 210456\n",
      "Data columns (total 9 columns):\n",
      " #   Column            Non-Null Count   Dtype   \n",
      "---  ------            --------------   -----   \n",
      " 0   vh_id             210256 non-null  int64   \n",
      " 1   route_nm          210256 non-null  category\n",
      " 2   now_latitude      210256 non-null  float64 \n",
      " 3   now_longitude     210256 non-null  float64 \n",
      " 4   now_arrive_time   210256 non-null  int32   \n",
      " 5   next_latitude     210256 non-null  float64 \n",
      " 6   next_longitude    210256 non-null  float64 \n",
      " 7   next_arrive_time  210256 non-null  int64   \n",
      " 8   day               210256 non-null  int64   \n",
      "dtypes: category(1), float64(4), int32(1), int64(3)\n",
      "memory usage: 13.8 MB\n"
     ]
    }
   ],
   "source": [
    "train.info()"
   ]
  },
  {
   "cell_type": "code",
   "execution_count": 19,
   "id": "8dce7f54",
   "metadata": {},
   "outputs": [
    {
     "data": {
      "image/png": "[encoded data removed]",
      "text/plain": [
       "<Figure size 720x720 with 1 Axes>"
      ]
     },
     "metadata": {
      "needs_background": "light"
     },
     "output_type": "display_data"
    }
   ],
   "source": [
    "# train[\"next_arrive_time\"].hist(bins=100, figsize=(20, 10));\n",
    "# 102가 4분위수 중 3분위수\n",
    "plt.figure(figsize=(10, 10))\n",
    "sns.boxplot(data=train[\"next_arrive_time\"]);"
   ]
  },
  {
   "cell_type": "markdown",
   "id": "c2701ea2",
   "metadata": {},
   "source": [
    "# 최종 전처리, 원핫인코딩"
   ]
  },
  {
   "cell_type": "code",
   "execution_count": 20,
   "id": "e28c10a2",
   "metadata": {},
   "outputs": [
    {
     "data": {
      "text/plain": [
       "['vh_id',\n",
       " 'route_nm',\n",
       " 'now_latitude',\n",
       " 'now_longitude',\n",
       " 'now_arrive_time',\n",
       " 'next_latitude',\n",
       " 'next_longitude',\n",
       " 'day']"
      ]
     },
     "execution_count": 20,
     "metadata": {},
     "output_type": "execute_result"
    }
   ],
   "source": [
    "feature_names = ['vh_id', 'route_nm', 'now_latitude', 'now_longitude', 'now_arrive_time',\n",
    "       'next_latitude', 'next_longitude', 'day']\n",
    "feature_names"
   ]
  },
  {
   "cell_type": "code",
   "execution_count": 21,
   "id": "a16dcec5",
   "metadata": {},
   "outputs": [
    {
     "data": {
      "text/html": [
       "<div>\n",
       "<style scoped>\n",
       "    .dataframe tbody tr th:only-of-type {\n",
       "        vertical-align: middle;\n",
       "    }\n",
       "\n",
       "    .dataframe tbody tr th {\n",
       "        vertical-align: top;\n",
       "    }\n",
       "\n",
       "    .dataframe thead th {\n",
       "        text-align: right;\n",
       "    }\n",
       "</style>\n",
       "<table border=\"1\" class=\"dataframe\">\n",
       "  <thead>\n",
       "    <tr style=\"text-align: right;\">\n",
       "      <th></th>\n",
       "      <th>vh_id</th>\n",
       "      <th>now_latitude</th>\n",
       "      <th>now_longitude</th>\n",
       "      <th>now_arrive_time</th>\n",
       "      <th>next_latitude</th>\n",
       "      <th>next_longitude</th>\n",
       "      <th>day</th>\n",
       "      <th>route_nm_201-11</th>\n",
       "      <th>route_nm_201-12</th>\n",
       "      <th>route_nm_201-13</th>\n",
       "      <th>...</th>\n",
       "      <th>route_nm_201-26</th>\n",
       "      <th>route_nm_201-27</th>\n",
       "      <th>route_nm_281-1</th>\n",
       "      <th>route_nm_281-2</th>\n",
       "      <th>route_nm_360-1</th>\n",
       "      <th>route_nm_360-12</th>\n",
       "      <th>route_nm_360-2</th>\n",
       "      <th>route_nm_360-7</th>\n",
       "      <th>route_nm_365-21</th>\n",
       "      <th>route_nm_365-22</th>\n",
       "    </tr>\n",
       "  </thead>\n",
       "  <tbody>\n",
       "    <tr>\n",
       "      <th>0</th>\n",
       "      <td>7997025</td>\n",
       "      <td>33.456267</td>\n",
       "      <td>126.551750</td>\n",
       "      <td>6</td>\n",
       "      <td>33.457724</td>\n",
       "      <td>126.554014</td>\n",
       "      <td>1</td>\n",
       "      <td>0</td>\n",
       "      <td>0</td>\n",
       "      <td>0</td>\n",
       "      <td>...</td>\n",
       "      <td>0</td>\n",
       "      <td>0</td>\n",
       "      <td>0</td>\n",
       "      <td>0</td>\n",
       "      <td>1</td>\n",
       "      <td>0</td>\n",
       "      <td>0</td>\n",
       "      <td>0</td>\n",
       "      <td>0</td>\n",
       "      <td>0</td>\n",
       "    </tr>\n",
       "    <tr>\n",
       "      <th>1</th>\n",
       "      <td>7997025</td>\n",
       "      <td>33.457724</td>\n",
       "      <td>126.554014</td>\n",
       "      <td>6</td>\n",
       "      <td>33.458783</td>\n",
       "      <td>126.557353</td>\n",
       "      <td>1</td>\n",
       "      <td>0</td>\n",
       "      <td>0</td>\n",
       "      <td>0</td>\n",
       "      <td>...</td>\n",
       "      <td>0</td>\n",
       "      <td>0</td>\n",
       "      <td>0</td>\n",
       "      <td>0</td>\n",
       "      <td>1</td>\n",
       "      <td>0</td>\n",
       "      <td>0</td>\n",
       "      <td>0</td>\n",
       "      <td>0</td>\n",
       "      <td>0</td>\n",
       "    </tr>\n",
       "    <tr>\n",
       "      <th>2</th>\n",
       "      <td>7997025</td>\n",
       "      <td>33.458783</td>\n",
       "      <td>126.557353</td>\n",
       "      <td>6</td>\n",
       "      <td>33.459893</td>\n",
       "      <td>126.561624</td>\n",
       "      <td>1</td>\n",
       "      <td>0</td>\n",
       "      <td>0</td>\n",
       "      <td>0</td>\n",
       "      <td>...</td>\n",
       "      <td>0</td>\n",
       "      <td>0</td>\n",
       "      <td>0</td>\n",
       "      <td>0</td>\n",
       "      <td>1</td>\n",
       "      <td>0</td>\n",
       "      <td>0</td>\n",
       "      <td>0</td>\n",
       "      <td>0</td>\n",
       "      <td>0</td>\n",
       "    </tr>\n",
       "    <tr>\n",
       "      <th>3</th>\n",
       "      <td>7997025</td>\n",
       "      <td>33.479705</td>\n",
       "      <td>126.543811</td>\n",
       "      <td>6</td>\n",
       "      <td>33.484860</td>\n",
       "      <td>126.542928</td>\n",
       "      <td>1</td>\n",
       "      <td>0</td>\n",
       "      <td>0</td>\n",
       "      <td>0</td>\n",
       "      <td>...</td>\n",
       "      <td>0</td>\n",
       "      <td>0</td>\n",
       "      <td>0</td>\n",
       "      <td>0</td>\n",
       "      <td>1</td>\n",
       "      <td>0</td>\n",
       "      <td>0</td>\n",
       "      <td>0</td>\n",
       "      <td>0</td>\n",
       "      <td>0</td>\n",
       "    </tr>\n",
       "    <tr>\n",
       "      <th>4</th>\n",
       "      <td>7997025</td>\n",
       "      <td>33.485662</td>\n",
       "      <td>126.494923</td>\n",
       "      <td>7</td>\n",
       "      <td>33.485822</td>\n",
       "      <td>126.490897</td>\n",
       "      <td>1</td>\n",
       "      <td>0</td>\n",
       "      <td>0</td>\n",
       "      <td>0</td>\n",
       "      <td>...</td>\n",
       "      <td>0</td>\n",
       "      <td>0</td>\n",
       "      <td>0</td>\n",
       "      <td>0</td>\n",
       "      <td>1</td>\n",
       "      <td>0</td>\n",
       "      <td>0</td>\n",
       "      <td>0</td>\n",
       "      <td>0</td>\n",
       "      <td>0</td>\n",
       "    </tr>\n",
       "  </tbody>\n",
       "</table>\n",
       "<p>5 rows × 28 columns</p>\n",
       "</div>"
      ],
      "text/plain": [
       "     vh_id  now_latitude  now_longitude  now_arrive_time  next_latitude  \\\n",
       "0  7997025     33.456267     126.551750                6      33.457724   \n",
       "1  7997025     33.457724     126.554014                6      33.458783   \n",
       "2  7997025     33.458783     126.557353                6      33.459893   \n",
       "3  7997025     33.479705     126.543811                6      33.484860   \n",
       "4  7997025     33.485662     126.494923                7      33.485822   \n",
       "\n",
       "   next_longitude  day  route_nm_201-11  route_nm_201-12  route_nm_201-13  \\\n",
       "0      126.554014    1                0                0                0   \n",
       "1      126.557353    1                0                0                0   \n",
       "2      126.561624    1                0                0                0   \n",
       "3      126.542928    1                0                0                0   \n",
       "4      126.490897    1                0                0                0   \n",
       "\n",
       "   ...  route_nm_201-26  route_nm_201-27  route_nm_281-1  route_nm_281-2  \\\n",
       "0  ...                0                0               0               0   \n",
       "1  ...                0                0               0               0   \n",
       "2  ...                0                0               0               0   \n",
       "3  ...                0                0               0               0   \n",
       "4  ...                0                0               0               0   \n",
       "\n",
       "   route_nm_360-1  route_nm_360-12  route_nm_360-2  route_nm_360-7  \\\n",
       "0               1                0               0               0   \n",
       "1               1                0               0               0   \n",
       "2               1                0               0               0   \n",
       "3               1                0               0               0   \n",
       "4               1                0               0               0   \n",
       "\n",
       "   route_nm_365-21  route_nm_365-22  \n",
       "0                0                0  \n",
       "1                0                0  \n",
       "2                0                0  \n",
       "3                0                0  \n",
       "4                0                0  \n",
       "\n",
       "[5 rows x 28 columns]"
      ]
     },
     "execution_count": 21,
     "metadata": {},
     "output_type": "execute_result"
    }
   ],
   "source": [
    "X_train = pd.get_dummies(train[feature_names])\n",
    "X_train.head()"
   ]
  },
  {
   "cell_type": "code",
   "execution_count": 22,
   "id": "f646b5c0",
   "metadata": {},
   "outputs": [
    {
     "data": {
      "text/html": [
       "<div>\n",
       "<style scoped>\n",
       "    .dataframe tbody tr th:only-of-type {\n",
       "        vertical-align: middle;\n",
       "    }\n",
       "\n",
       "    .dataframe tbody tr th {\n",
       "        vertical-align: top;\n",
       "    }\n",
       "\n",
       "    .dataframe thead th {\n",
       "        text-align: right;\n",
       "    }\n",
       "</style>\n",
       "<table border=\"1\" class=\"dataframe\">\n",
       "  <thead>\n",
       "    <tr style=\"text-align: right;\">\n",
       "      <th></th>\n",
       "      <th>vh_id</th>\n",
       "      <th>now_latitude</th>\n",
       "      <th>now_longitude</th>\n",
       "      <th>now_arrive_time</th>\n",
       "      <th>next_latitude</th>\n",
       "      <th>next_longitude</th>\n",
       "      <th>day</th>\n",
       "      <th>route_nm_201-11</th>\n",
       "      <th>route_nm_201-12</th>\n",
       "      <th>route_nm_201-13</th>\n",
       "      <th>...</th>\n",
       "      <th>route_nm_201-26</th>\n",
       "      <th>route_nm_201-27</th>\n",
       "      <th>route_nm_281-1</th>\n",
       "      <th>route_nm_281-2</th>\n",
       "      <th>route_nm_360-1</th>\n",
       "      <th>route_nm_360-12</th>\n",
       "      <th>route_nm_360-2</th>\n",
       "      <th>route_nm_360-7</th>\n",
       "      <th>route_nm_365-21</th>\n",
       "      <th>route_nm_365-22</th>\n",
       "    </tr>\n",
       "  </thead>\n",
       "  <tbody>\n",
       "    <tr>\n",
       "      <th>0</th>\n",
       "      <td>7997025</td>\n",
       "      <td>33.457724</td>\n",
       "      <td>126.554014</td>\n",
       "      <td>7</td>\n",
       "      <td>33.458783</td>\n",
       "      <td>126.557353</td>\n",
       "      <td>1</td>\n",
       "      <td>0</td>\n",
       "      <td>0</td>\n",
       "      <td>0</td>\n",
       "      <td>...</td>\n",
       "      <td>0</td>\n",
       "      <td>0</td>\n",
       "      <td>0</td>\n",
       "      <td>0</td>\n",
       "      <td>1</td>\n",
       "      <td>0</td>\n",
       "      <td>0</td>\n",
       "      <td>0</td>\n",
       "      <td>0</td>\n",
       "      <td>0</td>\n",
       "    </tr>\n",
       "    <tr>\n",
       "      <th>1</th>\n",
       "      <td>7997025</td>\n",
       "      <td>33.458783</td>\n",
       "      <td>126.557353</td>\n",
       "      <td>7</td>\n",
       "      <td>33.459893</td>\n",
       "      <td>126.561624</td>\n",
       "      <td>1</td>\n",
       "      <td>0</td>\n",
       "      <td>0</td>\n",
       "      <td>0</td>\n",
       "      <td>...</td>\n",
       "      <td>0</td>\n",
       "      <td>0</td>\n",
       "      <td>0</td>\n",
       "      <td>0</td>\n",
       "      <td>1</td>\n",
       "      <td>0</td>\n",
       "      <td>0</td>\n",
       "      <td>0</td>\n",
       "      <td>0</td>\n",
       "      <td>0</td>\n",
       "    </tr>\n",
       "    <tr>\n",
       "      <th>2</th>\n",
       "      <td>7997025</td>\n",
       "      <td>33.478867</td>\n",
       "      <td>126.483833</td>\n",
       "      <td>8</td>\n",
       "      <td>33.478850</td>\n",
       "      <td>126.488350</td>\n",
       "      <td>1</td>\n",
       "      <td>0</td>\n",
       "      <td>0</td>\n",
       "      <td>0</td>\n",
       "      <td>...</td>\n",
       "      <td>0</td>\n",
       "      <td>0</td>\n",
       "      <td>0</td>\n",
       "      <td>0</td>\n",
       "      <td>1</td>\n",
       "      <td>0</td>\n",
       "      <td>0</td>\n",
       "      <td>0</td>\n",
       "      <td>0</td>\n",
       "      <td>0</td>\n",
       "    </tr>\n",
       "    <tr>\n",
       "      <th>3</th>\n",
       "      <td>7997025</td>\n",
       "      <td>33.478850</td>\n",
       "      <td>126.488350</td>\n",
       "      <td>8</td>\n",
       "      <td>33.480700</td>\n",
       "      <td>126.489933</td>\n",
       "      <td>1</td>\n",
       "      <td>0</td>\n",
       "      <td>0</td>\n",
       "      <td>0</td>\n",
       "      <td>...</td>\n",
       "      <td>0</td>\n",
       "      <td>0</td>\n",
       "      <td>0</td>\n",
       "      <td>0</td>\n",
       "      <td>1</td>\n",
       "      <td>0</td>\n",
       "      <td>0</td>\n",
       "      <td>0</td>\n",
       "      <td>0</td>\n",
       "      <td>0</td>\n",
       "    </tr>\n",
       "    <tr>\n",
       "      <th>4</th>\n",
       "      <td>7997025</td>\n",
       "      <td>33.480700</td>\n",
       "      <td>126.489933</td>\n",
       "      <td>8</td>\n",
       "      <td>33.482077</td>\n",
       "      <td>126.485355</td>\n",
       "      <td>1</td>\n",
       "      <td>0</td>\n",
       "      <td>0</td>\n",
       "      <td>0</td>\n",
       "      <td>...</td>\n",
       "      <td>0</td>\n",
       "      <td>0</td>\n",
       "      <td>0</td>\n",
       "      <td>0</td>\n",
       "      <td>1</td>\n",
       "      <td>0</td>\n",
       "      <td>0</td>\n",
       "      <td>0</td>\n",
       "      <td>0</td>\n",
       "      <td>0</td>\n",
       "    </tr>\n",
       "  </tbody>\n",
       "</table>\n",
       "<p>5 rows × 28 columns</p>\n",
       "</div>"
      ],
      "text/plain": [
       "     vh_id  now_latitude  now_longitude  now_arrive_time  next_latitude  \\\n",
       "0  7997025     33.457724     126.554014                7      33.458783   \n",
       "1  7997025     33.458783     126.557353                7      33.459893   \n",
       "2  7997025     33.478867     126.483833                8      33.478850   \n",
       "3  7997025     33.478850     126.488350                8      33.480700   \n",
       "4  7997025     33.480700     126.489933                8      33.482077   \n",
       "\n",
       "   next_longitude  day  route_nm_201-11  route_nm_201-12  route_nm_201-13  \\\n",
       "0      126.557353    1                0                0                0   \n",
       "1      126.561624    1                0                0                0   \n",
       "2      126.488350    1                0                0                0   \n",
       "3      126.489933    1                0                0                0   \n",
       "4      126.485355    1                0                0                0   \n",
       "\n",
       "   ...  route_nm_201-26  route_nm_201-27  route_nm_281-1  route_nm_281-2  \\\n",
       "0  ...                0                0               0               0   \n",
       "1  ...                0                0               0               0   \n",
       "2  ...                0                0               0               0   \n",
       "3  ...                0                0               0               0   \n",
       "4  ...                0                0               0               0   \n",
       "\n",
       "   route_nm_360-1  route_nm_360-12  route_nm_360-2  route_nm_360-7  \\\n",
       "0               1                0               0               0   \n",
       "1               1                0               0               0   \n",
       "2               1                0               0               0   \n",
       "3               1                0               0               0   \n",
       "4               1                0               0               0   \n",
       "\n",
       "   route_nm_365-21  route_nm_365-22  \n",
       "0                0                0  \n",
       "1                0                0  \n",
       "2                0                0  \n",
       "3                0                0  \n",
       "4                0                0  \n",
       "\n",
       "[5 rows x 28 columns]"
      ]
     },
     "execution_count": 22,
     "metadata": {},
     "output_type": "execute_result"
    }
   ],
   "source": [
    "X_test = pd.get_dummies(test[feature_names])\n",
    "X_test.head()"
   ]
  },
  {
   "cell_type": "code",
   "execution_count": 23,
   "id": "035e26dd",
   "metadata": {},
   "outputs": [
    {
     "data": {
      "text/plain": [
       "'next_arrive_time'"
      ]
     },
     "execution_count": 23,
     "metadata": {},
     "output_type": "execute_result"
    }
   ],
   "source": [
    "label_name = \"next_arrive_time\"\n",
    "label_name"
   ]
  },
  {
   "cell_type": "code",
   "execution_count": 24,
   "id": "88799565",
   "metadata": {},
   "outputs": [
    {
     "data": {
      "text/plain": [
       "0    24\n",
       "1    36\n",
       "2    40\n",
       "3    42\n",
       "4    64\n",
       "Name: next_arrive_time, dtype: int64"
      ]
     },
     "execution_count": 24,
     "metadata": {},
     "output_type": "execute_result"
    }
   ],
   "source": [
    "y_train = train[label_name]\n",
    "y_train.head()"
   ]
  },
  {
   "cell_type": "code",
   "execution_count": null,
   "id": "c14c9f72",
   "metadata": {},
   "outputs": [],
   "source": []
  },
  {
   "cell_type": "markdown",
   "id": "099c2173",
   "metadata": {},
   "source": [
    "# 머신러닝 시작"
   ]
  },
  {
   "cell_type": "markdown",
   "id": "e2faa9a7",
   "metadata": {},
   "source": [
    "## 앙상블 cross_validation 으로 학습"
   ]
  },
  {
   "cell_type": "code",
   "execution_count": 25,
   "id": "2c78b841",
   "metadata": {},
   "outputs": [],
   "source": [
    "# 앙상블 회귀\n",
    "from sklearn.ensemble import RandomForestRegressor\n",
    "\n",
    "model = RandomForestRegressor(random_state=42, min_samples_leaf=2)\n",
    "\n",
    "\n",
    "# KFold 를 사용해서 분할을 나눕니다.\n",
    "# 분할에 random_state를 사용할 수 있습니다.\n",
    "# 분할 때문에 값이 변경된건지 실험을 좀 더 고정할 수 있습니다.\n",
    "from sklearn.model_selection import KFold\n",
    "\n",
    "kf = KFold(n_splits=5, shuffle=True, random_state=42)\n",
    "\n",
    "\n",
    "# cross_val_predict 로 예측 결과를 구합니다.\n",
    "# y_valid_predict 에 결과를 담습니다.\n",
    "from sklearn.model_selection import cross_val_predict\n",
    "\n",
    "y_valid_predict = cross_val_predict(model, X_train, y_train, cv=kf, n_jobs=-1)\n",
    "\n",
    "from sklearn.metrics import mean_squared_error\n",
    "rmse = (((y_train - y_valid_predict) ** 2).mean() ** 0.5)"
   ]
  },
  {
   "cell_type": "code",
   "execution_count": 26,
   "id": "2dbf507a",
   "metadata": {},
   "outputs": [
    {
     "data": {
      "text/plain": [
       "34.00420310954713"
      ]
     },
     "execution_count": 26,
     "metadata": {},
     "output_type": "execute_result"
    }
   ],
   "source": [
    "rmse"
   ]
  },
  {
   "cell_type": "code",
   "execution_count": 27,
   "id": "9a80da6e",
   "metadata": {},
   "outputs": [
    {
     "data": {
      "text/plain": [
       "array([ 34.48820635,  46.65233333, 147.00126984, ..., 124.02964286,\n",
       "        27.72377778,  79.27880952])"
      ]
     },
     "execution_count": 27,
     "metadata": {},
     "output_type": "execute_result"
    }
   ],
   "source": [
    "y_predict = model.fit(X_train, y_train).predict(X_test)\n",
    "y_predict"
   ]
  },
  {
   "cell_type": "code",
   "execution_count": 28,
   "id": "d04f579b",
   "metadata": {},
   "outputs": [],
   "source": [
    "y_predict = y_predict.round().tolist()"
   ]
  },
  {
   "cell_type": "code",
   "execution_count": 29,
   "id": "ee1e6c91",
   "metadata": {},
   "outputs": [
    {
     "data": {
      "text/html": [
       "<div>\n",
       "<style scoped>\n",
       "    .dataframe tbody tr th:only-of-type {\n",
       "        vertical-align: middle;\n",
       "    }\n",
       "\n",
       "    .dataframe tbody tr th {\n",
       "        vertical-align: top;\n",
       "    }\n",
       "\n",
       "    .dataframe thead th {\n",
       "        text-align: right;\n",
       "    }\n",
       "</style>\n",
       "<table border=\"1\" class=\"dataframe\">\n",
       "  <thead>\n",
       "    <tr style=\"text-align: right;\">\n",
       "      <th></th>\n",
       "      <th>id</th>\n",
       "      <th>next_arrive_time</th>\n",
       "    </tr>\n",
       "  </thead>\n",
       "  <tbody>\n",
       "    <tr>\n",
       "      <th>0</th>\n",
       "      <td>210457</td>\n",
       "      <td>34.0</td>\n",
       "    </tr>\n",
       "    <tr>\n",
       "      <th>1</th>\n",
       "      <td>210458</td>\n",
       "      <td>47.0</td>\n",
       "    </tr>\n",
       "    <tr>\n",
       "      <th>2</th>\n",
       "      <td>210459</td>\n",
       "      <td>147.0</td>\n",
       "    </tr>\n",
       "    <tr>\n",
       "      <th>3</th>\n",
       "      <td>210460</td>\n",
       "      <td>57.0</td>\n",
       "    </tr>\n",
       "    <tr>\n",
       "      <th>4</th>\n",
       "      <td>210461</td>\n",
       "      <td>152.0</td>\n",
       "    </tr>\n",
       "    <tr>\n",
       "      <th>...</th>\n",
       "      <td>...</td>\n",
       "      <td>...</td>\n",
       "    </tr>\n",
       "    <tr>\n",
       "      <th>91769</th>\n",
       "      <td>302350</td>\n",
       "      <td>99.0</td>\n",
       "    </tr>\n",
       "    <tr>\n",
       "      <th>91770</th>\n",
       "      <td>302351</td>\n",
       "      <td>77.0</td>\n",
       "    </tr>\n",
       "    <tr>\n",
       "      <th>91771</th>\n",
       "      <td>302352</td>\n",
       "      <td>124.0</td>\n",
       "    </tr>\n",
       "    <tr>\n",
       "      <th>91772</th>\n",
       "      <td>302353</td>\n",
       "      <td>28.0</td>\n",
       "    </tr>\n",
       "    <tr>\n",
       "      <th>91773</th>\n",
       "      <td>302354</td>\n",
       "      <td>79.0</td>\n",
       "    </tr>\n",
       "  </tbody>\n",
       "</table>\n",
       "<p>91774 rows × 2 columns</p>\n",
       "</div>"
      ],
      "text/plain": [
       "           id  next_arrive_time\n",
       "0      210457              34.0\n",
       "1      210458              47.0\n",
       "2      210459             147.0\n",
       "3      210460              57.0\n",
       "4      210461             152.0\n",
       "...       ...               ...\n",
       "91769  302350              99.0\n",
       "91770  302351              77.0\n",
       "91771  302352             124.0\n",
       "91772  302353              28.0\n",
       "91773  302354              79.0\n",
       "\n",
       "[91774 rows x 2 columns]"
      ]
     },
     "execution_count": 29,
     "metadata": {},
     "output_type": "execute_result"
    }
   ],
   "source": [
    "# 제출\n",
    "file_name3 = f\"submission_{rmse:.4f}.csv\"\n",
    "sub[\"next_arrive_time\"] = y_predict\n",
    "sub.to_csv(file_name3, index=False)\n",
    "# 제대로 저장되었는지 확인합니다.\n",
    "pd.read_csv(file_name3)"
   ]
  },
  {
   "cell_type": "code",
   "execution_count": 31,
   "id": "4f5b005f",
   "metadata": {},
   "outputs": [
    {
     "data": {
      "image/png": "[encoded data removed]",
      "text/plain": [
       "<Figure size 432x288 with 1 Axes>"
      ]
     },
     "metadata": {
      "needs_background": "light"
     },
     "output_type": "display_data"
    }
   ],
   "source": [
    "# regplot 으로 예측값에 대한 회귀선 그리기\n",
    "sns.regplot(x=y_train, y=y_valid_predict);"
   ]
  },
  {
   "cell_type": "code",
   "execution_count": 32,
   "id": "e42a131d",
   "metadata": {},
   "outputs": [
    {
     "data": {
      "text/plain": [
       "0.7312709113061597"
      ]
     },
     "execution_count": 32,
     "metadata": {},
     "output_type": "execute_result"
    }
   ],
   "source": [
    "# r2 score는 1로 가까울수록 좋음\n",
    "from sklearn.metrics import r2_score\n",
    "\n",
    "r2sc = r2_score(y_train, y_valid_predict)\n",
    "r2sc"
   ]
  },
  {
   "cell_type": "code",
   "execution_count": 33,
   "id": "83207469",
   "metadata": {},
   "outputs": [
    {
     "data": {
      "text/plain": [
       "<AxesSubplot:xlabel='next_arrive_time', ylabel='Density'>"
      ]
     },
     "execution_count": 33,
     "metadata": {},
     "output_type": "execute_result"
    },
    {
     "data": {
      "image/png": "[encoded data removed]",
      "text/plain": [
       "<Figure size 432x288 with 1 Axes>"
      ]
     },
     "metadata": {
      "needs_background": "light"
     },
     "output_type": "display_data"
    }
   ],
   "source": [
    "# kdeplot으로 실제값과 예측값 비교하기\n",
    "sns.kdeplot(y_train)\n",
    "sns.kdeplot(y_valid_predict)"
   ]
  },
  {
   "cell_type": "code",
   "execution_count": 34,
   "id": "e33ed80b",
   "metadata": {},
   "outputs": [],
   "source": [
    "# sns.barplot(x=model.feature_importances_, y=model.feature_names_in_)"
   ]
  },
  {
   "cell_type": "markdown",
   "id": "4bada1f8",
   "metadata": {},
   "source": [
    "## train test split 데이터 나누기"
   ]
  },
  {
   "cell_type": "code",
   "execution_count": 35,
   "id": "185cf59a",
   "metadata": {},
   "outputs": [
    {
     "data": {
      "text/plain": [
       "((168204, 28), (42052, 28), (168204,), (42052,))"
      ]
     },
     "execution_count": 35,
     "metadata": {},
     "output_type": "execute_result"
    }
   ],
   "source": [
    "# train test split 으로 데이터 나누기\n",
    "from sklearn.model_selection import train_test_split\n",
    "\n",
    "X2_train, X_valid, y2_train, y_valid = train_test_split(X_train, y_train, test_size=0.2, random_state=42)\n",
    "\n",
    "X2_train.shape, X_valid.shape, y2_train.shape, y_valid.shape"
   ]
  },
  {
   "cell_type": "markdown",
   "id": "e936ac6a",
   "metadata": {},
   "source": [
    "## GradientBoostingRegressor 사용"
   ]
  },
  {
   "cell_type": "code",
   "execution_count": 36,
   "id": "95462f05",
   "metadata": {},
   "outputs": [
    {
     "data": {
      "text/plain": [
       "GradientBoostingRegressor(min_samples_leaf=2, random_state=42)"
      ]
     },
     "execution_count": 36,
     "metadata": {},
     "output_type": "execute_result"
    }
   ],
   "source": [
    "# sklearn.ensemble의 GradientBoostingRegressor\n",
    "from sklearn.ensemble import GradientBoostingRegressor\n",
    "model_gbt = GradientBoostingRegressor(random_state=42, min_samples_leaf=2)\n",
    "model_gbt"
   ]
  },
  {
   "cell_type": "code",
   "execution_count": 37,
   "id": "afce5f34",
   "metadata": {},
   "outputs": [
    {
     "data": {
      "text/plain": [
       "GradientBoostingRegressor(min_samples_leaf=2, random_state=42)"
      ]
     },
     "execution_count": 37,
     "metadata": {},
     "output_type": "execute_result"
    }
   ],
   "source": [
    "# 모델을 학습시킵니다.\n",
    "model_gbt.fit(X2_train, y2_train)"
   ]
  },
  {
   "cell_type": "code",
   "execution_count": 38,
   "id": "40e65870",
   "metadata": {},
   "outputs": [
    {
     "data": {
      "text/plain": [
       "0.5712236609605219"
      ]
     },
     "execution_count": 38,
     "metadata": {},
     "output_type": "execute_result"
    }
   ],
   "source": [
    "# valid score\n",
    "gbt_score = model_gbt.score(X_valid, y_valid)\n",
    "gbt_score"
   ]
  },
  {
   "cell_type": "code",
   "execution_count": 39,
   "id": "a29f7b54",
   "metadata": {},
   "outputs": [
    {
     "data": {
      "text/plain": [
       "array([ 54.,  64.,  99., ..., 105.,  66.,  89.])"
      ]
     },
     "execution_count": 39,
     "metadata": {},
     "output_type": "execute_result"
    }
   ],
   "source": [
    "y_gbt_predict = model_gbt.predict(X_test).round()\n",
    "y_gbt_predict"
   ]
  },
  {
   "cell_type": "code",
   "execution_count": 40,
   "id": "79144365",
   "metadata": {},
   "outputs": [
    {
     "data": {
      "text/html": [
       "<div>\n",
       "<style scoped>\n",
       "    .dataframe tbody tr th:only-of-type {\n",
       "        vertical-align: middle;\n",
       "    }\n",
       "\n",
       "    .dataframe tbody tr th {\n",
       "        vertical-align: top;\n",
       "    }\n",
       "\n",
       "    .dataframe thead th {\n",
       "        text-align: right;\n",
       "    }\n",
       "</style>\n",
       "<table border=\"1\" class=\"dataframe\">\n",
       "  <thead>\n",
       "    <tr style=\"text-align: right;\">\n",
       "      <th></th>\n",
       "      <th>id</th>\n",
       "      <th>next_arrive_time</th>\n",
       "    </tr>\n",
       "  </thead>\n",
       "  <tbody>\n",
       "    <tr>\n",
       "      <th>0</th>\n",
       "      <td>210457</td>\n",
       "      <td>54.0</td>\n",
       "    </tr>\n",
       "    <tr>\n",
       "      <th>1</th>\n",
       "      <td>210458</td>\n",
       "      <td>64.0</td>\n",
       "    </tr>\n",
       "    <tr>\n",
       "      <th>2</th>\n",
       "      <td>210459</td>\n",
       "      <td>99.0</td>\n",
       "    </tr>\n",
       "    <tr>\n",
       "      <th>3</th>\n",
       "      <td>210460</td>\n",
       "      <td>88.0</td>\n",
       "    </tr>\n",
       "    <tr>\n",
       "      <th>4</th>\n",
       "      <td>210461</td>\n",
       "      <td>106.0</td>\n",
       "    </tr>\n",
       "    <tr>\n",
       "      <th>...</th>\n",
       "      <td>...</td>\n",
       "      <td>...</td>\n",
       "    </tr>\n",
       "    <tr>\n",
       "      <th>91769</th>\n",
       "      <td>302350</td>\n",
       "      <td>106.0</td>\n",
       "    </tr>\n",
       "    <tr>\n",
       "      <th>91770</th>\n",
       "      <td>302351</td>\n",
       "      <td>92.0</td>\n",
       "    </tr>\n",
       "    <tr>\n",
       "      <th>91771</th>\n",
       "      <td>302352</td>\n",
       "      <td>105.0</td>\n",
       "    </tr>\n",
       "    <tr>\n",
       "      <th>91772</th>\n",
       "      <td>302353</td>\n",
       "      <td>66.0</td>\n",
       "    </tr>\n",
       "    <tr>\n",
       "      <th>91773</th>\n",
       "      <td>302354</td>\n",
       "      <td>89.0</td>\n",
       "    </tr>\n",
       "  </tbody>\n",
       "</table>\n",
       "<p>91774 rows × 2 columns</p>\n",
       "</div>"
      ],
      "text/plain": [
       "           id  next_arrive_time\n",
       "0      210457              54.0\n",
       "1      210458              64.0\n",
       "2      210459              99.0\n",
       "3      210460              88.0\n",
       "4      210461             106.0\n",
       "...       ...               ...\n",
       "91769  302350             106.0\n",
       "91770  302351              92.0\n",
       "91771  302352             105.0\n",
       "91772  302353              66.0\n",
       "91773  302354              89.0\n",
       "\n",
       "[91774 rows x 2 columns]"
      ]
     },
     "execution_count": 40,
     "metadata": {},
     "output_type": "execute_result"
    }
   ],
   "source": [
    "# 제출\n",
    "file_name1 = f\"submission_{gbt_score:.4f}.csv\"\n",
    "sub[\"next_arrive_time\"] = y_gbt_predict\n",
    "sub.to_csv(file_name1, index=False)\n",
    "# 제대로 저장되었는지 확인합니다.\n",
    "pd.read_csv(file_name1)"
   ]
  },
  {
   "cell_type": "code",
   "execution_count": null,
   "id": "990ad5a5",
   "metadata": {},
   "outputs": [],
   "source": []
  },
  {
   "cell_type": "markdown",
   "id": "045bd173",
   "metadata": {},
   "source": [
    "## XGboost 사용"
   ]
  },
  {
   "cell_type": "code",
   "execution_count": 41,
   "id": "3a88d479",
   "metadata": {},
   "outputs": [
    {
     "data": {
      "text/plain": [
       "((168204, 28), (168204,), (42052,), (42052,))"
      ]
     },
     "execution_count": 41,
     "metadata": {},
     "output_type": "execute_result"
    }
   ],
   "source": [
    "from sklearn.preprocessing import LabelEncoder\n",
    "\n",
    "le = LabelEncoder()\n",
    "y_xgb_train = le.fit_transform(y2_train)\n",
    "y_xgb_test = le.fit_transform(y_valid)\n",
    "X2_train.shape, y_xgb_train.shape, y_valid.shape, y_xgb_test.shape"
   ]
  },
  {
   "cell_type": "code",
   "execution_count": 42,
   "id": "a3e9adbe",
   "metadata": {},
   "outputs": [
    {
     "data": {
      "text/plain": [
       "XGBClassifier(base_score=0.5, booster='gbtree', callbacks=None,\n",
       "              colsample_bylevel=1, colsample_bynode=1, colsample_bytree=1,\n",
       "              early_stopping_rounds=None, enable_categorical=False,\n",
       "              eval_metric=None, feature_types=None, gamma=0, gpu_id=-1,\n",
       "              grow_policy='depthwise', importance_type=None,\n",
       "              interaction_constraints='', learning_rate=0.300000012,\n",
       "              max_bin=256, max_cat_threshold=64, max_cat_to_onehot=4,\n",
       "              max_delta_step=0, max_depth=6, max_leaves=0, min_child_weight=1,\n",
       "              missing=nan, monotone_constraints='()', n_estimators=100,\n",
       "              n_jobs=0, num_parallel_tree=1, objective='multi:softprob',\n",
       "              predictor='auto', ...)"
      ]
     },
     "execution_count": 42,
     "metadata": {},
     "output_type": "execute_result"
    }
   ],
   "source": [
    "from xgboost.sklearn import XGBClassifier\n",
    "\n",
    "xgb = XGBClassifier()\n",
    "xgb.fit(X2_train, y_xgb_train)"
   ]
  },
  {
   "cell_type": "code",
   "execution_count": 43,
   "id": "24fb9573",
   "metadata": {},
   "outputs": [
    {
     "data": {
      "text/plain": [
       "0.05362408446685057"
      ]
     },
     "execution_count": 43,
     "metadata": {},
     "output_type": "execute_result"
    }
   ],
   "source": [
    "y_xgb_predict = xgb.predict(X_valid)\n",
    "xgb_score = (y_xgb_predict == y_xgb_test).mean()\n",
    "xgb_score"
   ]
  },
  {
   "cell_type": "code",
   "execution_count": 44,
   "id": "7e18a703",
   "metadata": {},
   "outputs": [
    {
     "data": {
      "text/html": [
       "<div>\n",
       "<style scoped>\n",
       "    .dataframe tbody tr th:only-of-type {\n",
       "        vertical-align: middle;\n",
       "    }\n",
       "\n",
       "    .dataframe tbody tr th {\n",
       "        vertical-align: top;\n",
       "    }\n",
       "\n",
       "    .dataframe thead th {\n",
       "        text-align: right;\n",
       "    }\n",
       "</style>\n",
       "<table border=\"1\" class=\"dataframe\">\n",
       "  <thead>\n",
       "    <tr style=\"text-align: right;\">\n",
       "      <th></th>\n",
       "      <th>id</th>\n",
       "      <th>next_arrive_time</th>\n",
       "    </tr>\n",
       "  </thead>\n",
       "  <tbody>\n",
       "    <tr>\n",
       "      <th>0</th>\n",
       "      <td>210457</td>\n",
       "      <td>15</td>\n",
       "    </tr>\n",
       "    <tr>\n",
       "      <th>1</th>\n",
       "      <td>210458</td>\n",
       "      <td>18</td>\n",
       "    </tr>\n",
       "    <tr>\n",
       "      <th>2</th>\n",
       "      <td>210459</td>\n",
       "      <td>68</td>\n",
       "    </tr>\n",
       "    <tr>\n",
       "      <th>3</th>\n",
       "      <td>210460</td>\n",
       "      <td>27</td>\n",
       "    </tr>\n",
       "    <tr>\n",
       "      <th>4</th>\n",
       "      <td>210461</td>\n",
       "      <td>97</td>\n",
       "    </tr>\n",
       "    <tr>\n",
       "      <th>...</th>\n",
       "      <td>...</td>\n",
       "      <td>...</td>\n",
       "    </tr>\n",
       "    <tr>\n",
       "      <th>91769</th>\n",
       "      <td>302350</td>\n",
       "      <td>50</td>\n",
       "    </tr>\n",
       "    <tr>\n",
       "      <th>91770</th>\n",
       "      <td>302351</td>\n",
       "      <td>36</td>\n",
       "    </tr>\n",
       "    <tr>\n",
       "      <th>91771</th>\n",
       "      <td>302352</td>\n",
       "      <td>45</td>\n",
       "    </tr>\n",
       "    <tr>\n",
       "      <th>91772</th>\n",
       "      <td>302353</td>\n",
       "      <td>13</td>\n",
       "    </tr>\n",
       "    <tr>\n",
       "      <th>91773</th>\n",
       "      <td>302354</td>\n",
       "      <td>36</td>\n",
       "    </tr>\n",
       "  </tbody>\n",
       "</table>\n",
       "<p>91774 rows × 2 columns</p>\n",
       "</div>"
      ],
      "text/plain": [
       "           id  next_arrive_time\n",
       "0      210457                15\n",
       "1      210458                18\n",
       "2      210459                68\n",
       "3      210460                27\n",
       "4      210461                97\n",
       "...       ...               ...\n",
       "91769  302350                50\n",
       "91770  302351                36\n",
       "91771  302352                45\n",
       "91772  302353                13\n",
       "91773  302354                36\n",
       "\n",
       "[91774 rows x 2 columns]"
      ]
     },
     "execution_count": 44,
     "metadata": {},
     "output_type": "execute_result"
    }
   ],
   "source": [
    "# 제출\n",
    "xgb_sub = xgb.predict(X_test)\n",
    "file_name2 = f\"submission_{xgb_score:.4f}.csv\"\n",
    "sub[\"next_arrive_time\"] = xgb_sub.tolist()\n",
    "sub.to_csv(file_name2, index=False)\n",
    "# 제대로 저장되었는지 확인합니다.\n",
    "pd.read_csv(file_name2)"
   ]
  },
  {
   "cell_type": "markdown",
   "id": "dfee5bad",
   "metadata": {},
   "source": [
    "# 결과"
   ]
  },
  {
   "cell_type": "code",
   "execution_count": 45,
   "id": "1bbef4cc",
   "metadata": {},
   "outputs": [
    {
     "data": {
      "text/plain": [
       "'\\n이 데이터는 boost 계열을 쓰면 성능이 더 떨어졌다.\\n이유는 정확히 알 수 없지만 단순 cross_validation으로 점수가 더 높게 나왔다.\\n\\n'"
      ]
     },
     "execution_count": 45,
     "metadata": {},
     "output_type": "execute_result"
    }
   ],
   "source": [
    "\"\"\"\n",
    "이 데이터는 boost 계열을 쓰면 성능이 더 떨어졌다.\n",
    "이유는 정확히 알 수 없지만 단순 cross_validation으로 점수가 더 높게 나왔다.\n",
    "\n",
    "\"\"\""
   ]
  },
  {
   "cell_type": "code",
   "execution_count": null,
   "id": "606fabae",
   "metadata": {},
   "outputs": [],
   "source": []
  }
 ],
 "metadata": {
  "kernelspec": {
   "display_name": "Python 3 (ipykernel)",
   "language": "python",
   "name": "python3"
  },
  "language_info": {
   "codemirror_mode": {
    "name": "ipython",
    "version": 3
   },
   "file_extension": ".py",
   "mimetype": "text/x-python",
   "name": "python",
   "nbconvert_exporter": "python",
   "pygments_lexer": "ipython3",
   "version": "3.9.12"
  },
  "toc": {
   "base_numbering": 1,
   "nav_menu": {},
   "number_sections": true,
   "sideBar": true,
   "skip_h1_title": false,
   "title_cell": "Table of Contents",
   "title_sidebar": "Contents",
   "toc_cell": false,
   "toc_position": {},
   "toc_section_display": true,
   "toc_window_display": false
  }
 },
 "nbformat": 4,
 "nbformat_minor": 5
}
